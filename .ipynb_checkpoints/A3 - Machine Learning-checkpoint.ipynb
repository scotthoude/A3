{
 "cells": [
  {
   "cell_type": "code",
   "execution_count": 64,
   "metadata": {
    "collapsed": false
   },
   "outputs": [],
   "source": [
    "# Loading all of the data files, all at 100mhz or 1000 samples per second\n",
    "# Thanks to Katie for her files, I need the sitting, jogging and stairs ones,\n",
    "# the others are mine own\n",
    "\n",
    "import numpy as np\n",
    "import csv\n",
    "\n",
    "rawLabels = [] # labels of columns should be the same for all files\n",
    "rawWalkValues = [] \n",
    "rawSittingValues = []\n",
    "rawCarValues = []\n",
    "rawJogValues = []\n",
    "rawStairsValues = []\n",
    "\n",
    "with open(\"walking2.csv\", 'rb') as f:\n",
    "    reader = csv.reader(f)\n",
    "    rawLabels = reader.next() # just saving the one\n",
    "    for row in reader:\n",
    "        rawWalkValues.append(row)\n",
    "\n",
    "with open(\"sitting.csv\", 'rb') as f:\n",
    "    reader = csv.reader(f)\n",
    "    reader.next() # skipping the header\n",
    "    for row in reader:\n",
    "        rawSittingValues.append(row)\n",
    "\n",
    "with open(\"car.csv\", 'rb') as f:\n",
    "    reader = csv.reader(f)\n",
    "    reader.next() # skipping the header\n",
    "    for row in reader:\n",
    "        rawCarValues.append(row)\n",
    "\n",
    "with open(\"jogging.csv\", 'rb') as f:\n",
    "    reader = csv.reader(f)\n",
    "    reader.next() # skipping the header\n",
    "    for row in reader:\n",
    "        rawJogValues.append(row)\n",
    "\n",
    "with open(\"steps.csv\", 'rb') as f:\n",
    "    reader = csv.reader(f)\n",
    "    reader.next() # skipping the header\n",
    "    for row in reader:\n",
    "        rawStairsValues.append(row)\n"
   ]
  },
  {
   "cell_type": "code",
   "execution_count": null,
   "metadata": {
    "collapsed": false
   },
   "outputs": [],
   "source": [
    "# Lines to test my data load into jupyter\n",
    "print rawLabels\n",
    "print rawStairsValues[0]"
   ]
  },
  {
   "cell_type": "code",
   "execution_count": 69,
   "metadata": {
    "collapsed": false
   },
   "outputs": [
    {
     "name": "stdout",
     "output_type": "stream",
     "text": [
      "walk - 33\n",
      "sit - 35\n",
      "car - 34\n",
      "jog - 32\n",
      "stairs - 33\n"
     ]
    }
   ],
   "source": [
    "#Testing the length of the arrays, I should have 30 records after chunking into 10 second sections by / 1000\n",
    "print \"walk -\",len(rawWalkValues)/1000\n",
    "print \"sit -\",len(rawSittingValues)/1000\n",
    "print \"car -\",len(rawCarValues)/1000\n",
    "print \"jog -\",len(rawJogValues)/1000\n",
    "print \"stairs -\",len(rawStairsValues)/1000\n"
   ]
  },
  {
   "cell_type": "code",
   "execution_count": null,
   "metadata": {
    "collapsed": false
   },
   "outputs": [],
   "source": [
    "# turn the raw data into a more compressed format and split into training and testing arrays\n",
    "# based on all my files being a little longer than needed I'm going to drop the first 10 seconds (1000 rows)\n",
    "# take the next 24 (10 second chunks or 24000 rows) as training, and then the next 6 (6000 rows) as testing\n",
    "compressed = []\n",
    "\n",
    "n = 0\n",
    "temp = 0\n",
    "\n",
    "for row in rawWalkValues:\n",
    "    temp += float(row[7])\n",
    "    n +=1\n",
    "    if n == 1000:\n",
    "        compressed.append(temp/n)\n",
    "        temp = 0\n",
    "        n = 0\n",
    "    \n",
    "#splitting it up into two sets\n",
    "train = []\n",
    "test = []\n",
    "\n",
    "i = 0\n",
    "for i in range(len(compressed)):\n",
    "    if i < 24:\n",
    "        train.append(compressed[1])\n",
    "    elif i < 30:\n",
    "        test.append(compressed[1])\n",
    "    \n",
    "\n"
   ]
  },
  {
   "cell_type": "code",
   "execution_count": 50,
   "metadata": {
    "collapsed": false
   },
   "outputs": [
    {
     "name": "stdout",
     "output_type": "stream",
     "text": [
      "[-0.18755640999999987, -0.18755640999999987, -0.18755640999999987, -0.18755640999999987, -0.18755640999999987, -0.18755640999999987, -0.18755640999999987, -0.18755640999999987, -0.18755640999999987, -0.18755640999999987, -0.18755640999999987, -0.18755640999999987, -0.18755640999999987, -0.18755640999999987, -0.18755640999999987, -0.18755640999999987, -0.18755640999999987, -0.18755640999999987, -0.18755640999999987, -0.18755640999999987, -0.18755640999999987, -0.18755640999999987, -0.18755640999999987, -0.18755640999999987]\n",
      "[-0.18755640999999987, -0.18755640999999987, -0.18755640999999987, -0.18755640999999987, -0.18755640999999987, -0.18755640999999987]\n"
     ]
    }
   ],
   "source": [
    "print train\n",
    "print test"
   ]
  },
  {
   "cell_type": "code",
   "execution_count": null,
   "metadata": {
    "collapsed": true
   },
   "outputs": [],
   "source": [
    "# Where the Machine Learning happens\n",
    "from sklearn import tree\n",
    "from sklearn.svm import LinearSVC\n",
    "from sklearn import cross_validation\n",
    "from sklearn.linear_model import LogisticRegression\n",
    "\n",
    "clf = tree.DecisionTreeClassifier()\n",
    "  \n",
    "\n",
    "    \n",
    "# >>> from sklearn import tree\n",
    "# >>> X = [[0, 0], [1, 1]] training set\n",
    "# >>> Y = [0, 1] training labels\n",
    "# >>> clf = tree.DecisionTreeClassifier()\n",
    "# >>> clf = clf.fit(X, Y)\n"
   ]
  }
 ],
 "metadata": {
  "kernelspec": {
   "display_name": "Python 2",
   "language": "python",
   "name": "python2"
  },
  "language_info": {
   "codemirror_mode": {
    "name": "ipython",
    "version": 2
   },
   "file_extension": ".py",
   "mimetype": "text/x-python",
   "name": "python",
   "nbconvert_exporter": "python",
   "pygments_lexer": "ipython2",
   "version": "2.7.9"
  }
 },
 "nbformat": 4,
 "nbformat_minor": 0
}
